{
 "cells": [
  {
   "cell_type": "code",
   "execution_count": 18,
   "metadata": {},
   "outputs": [],
   "source": [
    "import warnings\n",
    "warnings.filterwarnings('ignore')\n",
    "import pandas as pd\n",
    "import numpy as np\n",
    "from matplotlib import pyplot as plt \n",
    "from scipy.stats import norm \n",
    "import seaborn as sns"
   ]
  },
  {
   "cell_type": "code",
   "execution_count": 2,
   "metadata": {},
   "outputs": [],
   "source": [
    "df_train=pd.read_csv(r'C:\\Users\\satis\\OneDrive\\Desktop\\Edvancer\\Python\\Project_3\\counterfeit_train.csv')\n",
    "df_test=pd.read_csv(r'C:\\Users\\satis\\OneDrive\\Desktop\\Edvancer\\Python\\Project_3\\counterfeit_test.csv')"
   ]
  },
  {
   "cell_type": "code",
   "execution_count": 5,
   "metadata": {},
   "outputs": [
    {
     "data": {
      "text/plain": [
       "(6818, 12)"
      ]
     },
     "execution_count": 5,
     "metadata": {},
     "output_type": "execute_result"
    }
   ],
   "source": [
    "df_train.shape"
   ]
  },
  {
   "cell_type": "code",
   "execution_count": 4,
   "metadata": {},
   "outputs": [
    {
     "data": {
      "text/plain": [
       "Medicine_ID               0\n",
       "Counterfeit_Weight     1166\n",
       "DistArea_ID               0\n",
       "Active_Since              0\n",
       "Medicine_MRP              0\n",
       "Medicine_Type             0\n",
       "SidEffect_Level           0\n",
       "Availability_rating       0\n",
       "Area_Type                 0\n",
       "Area_City_Type            0\n",
       "Area_dist_level           0\n",
       "Counterfeit_Sales         0\n",
       "dtype: int64"
      ]
     },
     "execution_count": 4,
     "metadata": {},
     "output_type": "execute_result"
    }
   ],
   "source": [
    "df_train.isnull().sum()"
   ]
  },
  {
   "cell_type": "code",
   "execution_count": 7,
   "metadata": {},
   "outputs": [
    {
     "data": {
      "text/plain": [
       "14.115056617126996"
      ]
     },
     "execution_count": 7,
     "metadata": {},
     "output_type": "execute_result"
    }
   ],
   "source": [
    "df_train['Counterfeit_Weight'].mean()"
   ]
  },
  {
   "cell_type": "code",
   "execution_count": 8,
   "metadata": {},
   "outputs": [
    {
     "data": {
      "text/plain": [
       "13.450    72\n",
       "18.900    67\n",
       "13.100    65\n",
       "18.000    55\n",
       "14.950    55\n",
       "          ..\n",
       "6.510      1\n",
       "7.395      1\n",
       "6.700      1\n",
       "8.195      1\n",
       "8.060      1\n",
       "Name: Counterfeit_Weight, Length: 414, dtype: int64"
      ]
     },
     "execution_count": 8,
     "metadata": {},
     "output_type": "execute_result"
    }
   ],
   "source": [
    "df_train['Counterfeit_Weight'].value_counts()"
   ]
  },
  {
   "cell_type": "code",
   "execution_count": 9,
   "metadata": {},
   "outputs": [
    {
     "data": {
      "text/plain": [
       "414"
      ]
     },
     "execution_count": 9,
     "metadata": {},
     "output_type": "execute_result"
    }
   ],
   "source": [
    "df_train['Counterfeit_Weight'].nunique()"
   ]
  },
  {
   "cell_type": "code",
   "execution_count": 10,
   "metadata": {},
   "outputs": [
    {
     "data": {
      "text/plain": [
       "array([13.1  ,    nan,  9.025, 11.8  ,  8.775, 18.   ,  7.68 , 18.55 ,\n",
       "        9.51 ,  9.27 , 18.15 , 13.9  , 20.3  , 22.55 , 13.3  , 21.65 ,\n",
       "       20.05 , 15.45 , 19.05 , 16.4  , 11.4  , 20.9  , 13.4  , 18.8  ,\n",
       "       22.   , 11.6  , 13.6  , 18.3  ,  8.69 , 19.65 ,  6.335, 19.   ,\n",
       "       10.51 , 22.05 , 17.65 , 11.95 ,  9.05 , 12.1  , 16.9  ,  7.78 ,\n",
       "       18.65 ,  6.785, 10.14 , 16.3  , 11.1  , 16.55 , 10.9  , 21.55 ,\n",
       "       20.4  , 19.55 , 12.9  ,  8.625, 15.3  , 10.23 , 15.1  , 14.6  ,\n",
       "        7.08 , 13.45 , 20.15 , 16.   , 17.5  ,  8.205, 18.05 ,  7.435,\n",
       "        7.495,  8.57 , 17.55 , 15.95 , 13.95 , 10.275, 19.15 ,  9.36 ,\n",
       "        7.455, 17.3  , 12.95 ,  6.765, 17.   , 12.15 , 20.55 , 10.8  ,\n",
       "       10.365, 10.3  ,  9.155,  8.22 , 12.6  ,  8.015, 19.5  ,  9.72 ,\n",
       "       10.495, 12.8  , 11.495, 20.8  , 14.15 , 11.695, 19.9  ,  7.62 ,\n",
       "       10.195,  9.235,  7.03 ,  9.125,  7.18 , 10.695,  9.785, 10.995,\n",
       "       21.5  , 18.9  , 10.06 ,  8.98 ,  7.95 ,  8.8  ,  8.195, 16.65 ,\n",
       "       21.9  , 16.8  , 18.4  , 16.45 ,  7.415,  7.085, 12.195,  9.73 ,\n",
       "       21.3  ,  7.66 , 21.   , 10.075, 14.45 ,  7.975, 12.695,  9.3  ,\n",
       "       15.4  ,  8.405, 11.195,  7.74 , 17.15 ,  7.56 , 13.65 , 21.4  ,\n",
       "        8.375,  9.35 ,  7.225,  7.725, 14.4  ,  7.72 ,  7.91 ,  7.28 ,\n",
       "       22.15 ,  9.4  , 10.6  ,  6.625, 21.05 ,  7.475,  7.935,  5.915,\n",
       "       11.9  , 12.3  ,  8.01 , 13.8  , 17.4  ,  5.89 , 15.15 ,  8.16 ,\n",
       "       15.65 ,  6.8  ,  8.705,  9.02 ,  7.915,  6.93 , 16.5  ,  9.56 ,\n",
       "        6.395,  8.945,  7.89 ,  9.9  ,  9.69 ,  7.22 ,  9.655, 14.65 ,\n",
       "       10.27 ,  8.065, 22.65 ,  7.355,  9.48 ,  9.06 , 10.4  , 17.05 ,\n",
       "        6.49 , 13.15 ,  8.28 , 12.65 ,  7.24 , 10.07 ,  7.43 ,  9.57 ,\n",
       "        6.18 , 12.4  ,  7.685, 10.61 , 20.   , 10.15 , 14.9  ,  9.485,\n",
       "       14.95 ,  7.93 ,  9.93 ,  6.955, 14.3  ,  6.205,  8.585,  6.22 ,\n",
       "        6.665,  9.23 , 17.8  , 19.3  ,  7.955, 20.65 ,  8.08 , 20.5  ,\n",
       "       11.995, 14.1  ,  8.1  ,  8.61 ,  9.205,  7.875,  7.58 , 15.8  ,\n",
       "        8.535,  9.945, 15.9  ,  6.475, 16.1  ,  9.81 ,  8.47 ,  5.91 ,\n",
       "        6.62 , 15.6  ,  9.875, 21.8  ,  8.82 , 10.19 ,  7.45 , 10.405,\n",
       "        8.835, 18.5  ,  8.125, 21.15 ,  6.935,  7.99 , 12.45 ,  8.165,\n",
       "        8.875,  9.695, 10.01 , 11.3  ,  8.32 , 10.085,  7.33 , 22.5  ,\n",
       "       16.15 ,  8.93 ,  8.085,  9.995, 10.22 ,  8.35 ,  9.32 , 19.4  ,\n",
       "        7.515,  7.205,  9.415,  8.81 ,  7.97 ,  6.105,  7.12 ,  7.535,\n",
       "        7.825, 22.4  ,  9.665, 10.43 ,  9.68 ,  6.89 , 22.3  ,  8.445,\n",
       "        9.14 ,  9.26 , 14.8  ,  7.85 ,  9.6  ,  8.455, 19.8  ,  6.76 ,\n",
       "        6.995,  6.7  ,  8.6  ,  9.535,  7.82 ,  9.195, 10.05 , 10.36 ,\n",
       "       10.57 ,  6.45 ,  7.47 , 10.245,  9.275,  7.41 ,  7.125,  9.085,\n",
       "        8.785,  7.145,  7.285,  6.56 ,  6.455, 10.285,  7.245,  8.615,\n",
       "        6.41 ,  8.72 ,  8.735,  6.64 ,  7.765,  8.665, 10.335,  8.19 ,\n",
       "       17.9  ,  6.3  ,  7.065,  9.245,  8.9  ,  8.85 ,  9.65 ,  8.3  ,\n",
       "        7.335,  8.185,  7.1  ,  8.97 ,  9.31 , 10.18 , 10.585,  8.955,\n",
       "        9.615,  9.11 ,  8.985, 10.205,  8.65 , 10.47 ,  7.6  ,  7.745,\n",
       "        8.51 ,  8.37 ,  8.4  ,  6.915,  8.15 ,  6.725,  7.87 ,  8.745,\n",
       "        8.265,  5.855,  9.915,  9.455,  7.7  ,  7.665,  9.82 ,  8.77 ,\n",
       "        7.995,  9.955,  7.605,  9.625,  6.81 ,  8.335, 10.235,  6.33 ,\n",
       "       16.6  ,  9.98 ,  9.8  ,  7.05 ,  8.52 , 10.1  ,  8.86 ,  6.085,\n",
       "       16.05 ,  9.97 ,  7.705,  8.26 ,  8.05 ,  8.89 ,  5.935,  7.185,\n",
       "        7.16 ,  9.61 ,  8.905,  6.78 ,  8.575,  8.56 ,  7.035,  8.66 ,\n",
       "        9.495,  8.075,  6.74 ,  9.01 ,  8.865,  8.39 ,  6.705, 10.26 ,\n",
       "        7.625,  8.285,  8.235,  9.165,  9.19 ,  6.975,  8.94 ,  8.36 ,\n",
       "        9.575,  6.51 , 10.72 ,  7.395,  6.605,  9.15 ,  8.06 ])"
      ]
     },
     "execution_count": 10,
     "metadata": {},
     "output_type": "execute_result"
    }
   ],
   "source": [
    "df_train['Counterfeit_Weight'].unique()"
   ]
  },
  {
   "cell_type": "code",
   "execution_count": 11,
   "metadata": {},
   "outputs": [
    {
     "data": {
      "text/plain": [
       "13.8"
      ]
     },
     "execution_count": 11,
     "metadata": {},
     "output_type": "execute_result"
    }
   ],
   "source": [
    "df_train['Counterfeit_Weight'].median()"
   ]
  },
  {
   "cell_type": "code",
   "execution_count": 12,
   "metadata": {},
   "outputs": [
    {
     "data": {
      "text/plain": [
       "0    13.45\n",
       "dtype: float64"
      ]
     },
     "execution_count": 12,
     "metadata": {},
     "output_type": "execute_result"
    }
   ],
   "source": [
    "df_train['Counterfeit_Weight'].mode()"
   ]
  },
  {
   "cell_type": "code",
   "execution_count": 15,
   "metadata": {},
   "outputs": [
    {
     "data": {
      "image/png": "[encoded data removed]",
      "text/plain": [
       "<Figure size 432x288 with 1 Axes>"
      ]
     },
     "metadata": {
      "needs_background": "light"
     },
     "output_type": "display_data"
    }
   ],
   "source": [
    "dom=df_train['Counterfeit_Weight']\n",
    "plt.plot(dom,norm.pdf(dom,0,1))\n",
    "plt.title(\"std Normal\")\n",
    "plt.xlabel(\"value\")\n",
    "plt.ylabel(\"density\")\n",
    "plt.show()"
   ]
  },
  {
   "cell_type": "code",
   "execution_count": 17,
   "metadata": {},
   "outputs": [
    {
     "data": {
      "image/png": "[encoded data removed]",
      "text/plain": [
       "<Figure size 432x288 with 1 Axes>"
      ]
     },
     "metadata": {
      "needs_background": "light"
     },
     "output_type": "display_data"
    }
   ],
   "source": [
    "plt.hist(dom)\n",
    "plt.show()"
   ]
  },
  {
   "cell_type": "code",
   "execution_count": 20,
   "metadata": {},
   "outputs": [
    {
     "data": {
      "image/png": "[encoded data removed]",
      "text/plain": [
       "<Figure size 432x288 with 1 Axes>"
      ]
     },
     "metadata": {
      "needs_background": "light"
     },
     "output_type": "display_data"
    }
   ],
   "source": [
    "\n",
    "\n",
    "sns.boxplot(dom) \n",
    "plt.show()"
   ]
  },
  {
   "cell_type": "code",
   "execution_count": 21,
   "metadata": {},
   "outputs": [
    {
     "data": {
      "text/plain": [
       "count    5652.000000\n",
       "mean       14.115057\n",
       "std         4.649668\n",
       "min         5.855000\n",
       "25%         9.995000\n",
       "50%        13.800000\n",
       "75%        18.050000\n",
       "max        22.650000\n",
       "Name: Counterfeit_Weight, dtype: float64"
      ]
     },
     "execution_count": 21,
     "metadata": {},
     "output_type": "execute_result"
    }
   ],
   "source": [
    "dom.describe()"
   ]
  },
  {
   "cell_type": "code",
   "execution_count": 28,
   "metadata": {},
   "outputs": [],
   "source": [
    "df_train['Counterfeit_Weight']=df_train['Counterfeit_Weight'].replace(np.NaN,df_train['Counterfeit_Weight'].mean())"
   ]
  },
  {
   "cell_type": "code",
   "execution_count": 37,
   "metadata": {},
   "outputs": [],
   "source": [
    "df_test['Counterfeit_Weight']=df_test['Counterfeit_Weight'].replace(np.NaN,df_test['Counterfeit_Weight'].mean())"
   ]
  },
  {
   "cell_type": "code",
   "execution_count": 29,
   "metadata": {},
   "outputs": [
    {
     "data": {
      "text/plain": [
       "Medicine_ID            0\n",
       "Counterfeit_Weight     0\n",
       "DistArea_ID            0\n",
       "Active_Since           0\n",
       "Medicine_MRP           0\n",
       "Medicine_Type          0\n",
       "SidEffect_Level        0\n",
       "Availability_rating    0\n",
       "Area_Type              0\n",
       "Area_City_Type         0\n",
       "Area_dist_level        0\n",
       "Counterfeit_Sales      0\n",
       "dtype: int64"
      ]
     },
     "execution_count": 29,
     "metadata": {},
     "output_type": "execute_result"
    }
   ],
   "source": [
    "df_train.isnull().sum()"
   ]
  },
  {
   "cell_type": "code",
   "execution_count": 38,
   "metadata": {},
   "outputs": [
    {
     "data": {
      "text/plain": [
       "Counterfeit_Weight     0\n",
       "DistArea_ID            0\n",
       "Active_Since           0\n",
       "Medicine_MRP           0\n",
       "Medicine_Type          0\n",
       "SidEffect_Level        0\n",
       "Availability_rating    0\n",
       "Area_Type              0\n",
       "Area_City_Type         0\n",
       "Area_dist_level        0\n",
       "dtype: int64"
      ]
     },
     "execution_count": 38,
     "metadata": {},
     "output_type": "execute_result"
    }
   ],
   "source": [
    "df_test.isnull().sum()"
   ]
  },
  {
   "cell_type": "code",
   "execution_count": 30,
   "metadata": {},
   "outputs": [
    {
     "data": {
      "text/html": [
       "<div>\n",
       "<style scoped>\n",
       "    .dataframe tbody tr th:only-of-type {\n",
       "        vertical-align: middle;\n",
       "    }\n",
       "\n",
       "    .dataframe tbody tr th {\n",
       "        vertical-align: top;\n",
       "    }\n",
       "\n",
       "    .dataframe thead th {\n",
       "        text-align: right;\n",
       "    }\n",
       "</style>\n",
       "<table border=\"1\" class=\"dataframe\">\n",
       "  <thead>\n",
       "    <tr style=\"text-align: right;\">\n",
       "      <th></th>\n",
       "      <th>Medicine_ID</th>\n",
       "      <th>Counterfeit_Weight</th>\n",
       "      <th>DistArea_ID</th>\n",
       "      <th>Active_Since</th>\n",
       "      <th>Medicine_MRP</th>\n",
       "      <th>Medicine_Type</th>\n",
       "      <th>SidEffect_Level</th>\n",
       "      <th>Availability_rating</th>\n",
       "      <th>Area_Type</th>\n",
       "      <th>Area_City_Type</th>\n",
       "      <th>Area_dist_level</th>\n",
       "      <th>Counterfeit_Sales</th>\n",
       "    </tr>\n",
       "  </thead>\n",
       "  <tbody>\n",
       "    <tr>\n",
       "      <td>0</td>\n",
       "      <td>RRA15</td>\n",
       "      <td>13.100000</td>\n",
       "      <td>Area046</td>\n",
       "      <td>1995</td>\n",
       "      <td>160.2366</td>\n",
       "      <td>Antimalarial</td>\n",
       "      <td>critical</td>\n",
       "      <td>0.070422</td>\n",
       "      <td>DownTown</td>\n",
       "      <td>Tier 1</td>\n",
       "      <td>Small</td>\n",
       "      <td>1775.5026</td>\n",
       "    </tr>\n",
       "    <tr>\n",
       "      <td>1</td>\n",
       "      <td>YVV26</td>\n",
       "      <td>14.115057</td>\n",
       "      <td>Area027</td>\n",
       "      <td>1983</td>\n",
       "      <td>110.4384</td>\n",
       "      <td>Mstablizers</td>\n",
       "      <td>mild</td>\n",
       "      <td>0.013000</td>\n",
       "      <td>CityLimits</td>\n",
       "      <td>Tier 3</td>\n",
       "      <td>Medium</td>\n",
       "      <td>3069.1520</td>\n",
       "    </tr>\n",
       "    <tr>\n",
       "      <td>2</td>\n",
       "      <td>LJC15</td>\n",
       "      <td>9.025000</td>\n",
       "      <td>Area046</td>\n",
       "      <td>1995</td>\n",
       "      <td>259.4092</td>\n",
       "      <td>Cardiac</td>\n",
       "      <td>mild</td>\n",
       "      <td>0.060783</td>\n",
       "      <td>DownTown</td>\n",
       "      <td>Tier 1</td>\n",
       "      <td>Small</td>\n",
       "      <td>2603.0920</td>\n",
       "    </tr>\n",
       "    <tr>\n",
       "      <td>3</td>\n",
       "      <td>GWC40</td>\n",
       "      <td>11.800000</td>\n",
       "      <td>Area046</td>\n",
       "      <td>1995</td>\n",
       "      <td>99.9830</td>\n",
       "      <td>OralContraceptives</td>\n",
       "      <td>mild</td>\n",
       "      <td>0.065555</td>\n",
       "      <td>DownTown</td>\n",
       "      <td>Tier 1</td>\n",
       "      <td>Small</td>\n",
       "      <td>1101.7130</td>\n",
       "    </tr>\n",
       "    <tr>\n",
       "      <td>4</td>\n",
       "      <td>QMN13</td>\n",
       "      <td>14.115057</td>\n",
       "      <td>Area019</td>\n",
       "      <td>1983</td>\n",
       "      <td>56.4402</td>\n",
       "      <td>Hreplacements</td>\n",
       "      <td>critical</td>\n",
       "      <td>0.248859</td>\n",
       "      <td>MidTownResidential</td>\n",
       "      <td>Tier 1</td>\n",
       "      <td>Small</td>\n",
       "      <td>158.9402</td>\n",
       "    </tr>\n",
       "    <tr>\n",
       "      <td>...</td>\n",
       "      <td>...</td>\n",
       "      <td>...</td>\n",
       "      <td>...</td>\n",
       "      <td>...</td>\n",
       "      <td>...</td>\n",
       "      <td>...</td>\n",
       "      <td>...</td>\n",
       "      <td>...</td>\n",
       "      <td>...</td>\n",
       "      <td>...</td>\n",
       "      <td>...</td>\n",
       "      <td>...</td>\n",
       "    </tr>\n",
       "    <tr>\n",
       "      <td>6813</td>\n",
       "      <td>OYN80</td>\n",
       "      <td>8.535000</td>\n",
       "      <td>Area046</td>\n",
       "      <td>1995</td>\n",
       "      <td>204.1452</td>\n",
       "      <td>Hreplacements</td>\n",
       "      <td>mild</td>\n",
       "      <td>0.112963</td>\n",
       "      <td>DownTown</td>\n",
       "      <td>Tier 1</td>\n",
       "      <td>Small</td>\n",
       "      <td>2070.4520</td>\n",
       "    </tr>\n",
       "    <tr>\n",
       "      <td>6814</td>\n",
       "      <td>ACW12</td>\n",
       "      <td>20.650000</td>\n",
       "      <td>Area046</td>\n",
       "      <td>1995</td>\n",
       "      <td>235.1088</td>\n",
       "      <td>Hreplacements</td>\n",
       "      <td>mild</td>\n",
       "      <td>0.131103</td>\n",
       "      <td>DownTown</td>\n",
       "      <td>Tier 1</td>\n",
       "      <td>Small</td>\n",
       "      <td>2126.3792</td>\n",
       "    </tr>\n",
       "    <tr>\n",
       "      <td>6815</td>\n",
       "      <td>OPM10</td>\n",
       "      <td>20.000000</td>\n",
       "      <td>Area017</td>\n",
       "      <td>2005</td>\n",
       "      <td>193.6292</td>\n",
       "      <td>Antimalarial</td>\n",
       "      <td>critical</td>\n",
       "      <td>0.105096</td>\n",
       "      <td>DownTown</td>\n",
       "      <td>Tier 2</td>\n",
       "      <td>Unknown</td>\n",
       "      <td>2119.7212</td>\n",
       "    </tr>\n",
       "    <tr>\n",
       "      <td>6816</td>\n",
       "      <td>SLY12</td>\n",
       "      <td>10.180000</td>\n",
       "      <td>Area045</td>\n",
       "      <td>2000</td>\n",
       "      <td>162.8682</td>\n",
       "      <td>Statins</td>\n",
       "      <td>mild</td>\n",
       "      <td>0.099957</td>\n",
       "      <td>DownTown</td>\n",
       "      <td>Tier 2</td>\n",
       "      <td>Unknown</td>\n",
       "      <td>1485.2138</td>\n",
       "    </tr>\n",
       "    <tr>\n",
       "      <td>6817</td>\n",
       "      <td>ATT10</td>\n",
       "      <td>7.930000</td>\n",
       "      <td>Area018</td>\n",
       "      <td>2007</td>\n",
       "      <td>177.5500</td>\n",
       "      <td>Mstablizers</td>\n",
       "      <td>critical</td>\n",
       "      <td>0.117445</td>\n",
       "      <td>Industrial</td>\n",
       "      <td>Tier 3</td>\n",
       "      <td>Medium</td>\n",
       "      <td>1943.9500</td>\n",
       "    </tr>\n",
       "  </tbody>\n",
       "</table>\n",
       "<p>6818 rows × 12 columns</p>\n",
       "</div>"
      ],
      "text/plain": [
       "     Medicine_ID  Counterfeit_Weight DistArea_ID  Active_Since  Medicine_MRP  \\\n",
       "0          RRA15           13.100000     Area046          1995      160.2366   \n",
       "1          YVV26           14.115057     Area027          1983      110.4384   \n",
       "2          LJC15            9.025000     Area046          1995      259.4092   \n",
       "3          GWC40           11.800000     Area046          1995       99.9830   \n",
       "4          QMN13           14.115057     Area019          1983       56.4402   \n",
       "...          ...                 ...         ...           ...           ...   \n",
       "6813       OYN80            8.535000     Area046          1995      204.1452   \n",
       "6814       ACW12           20.650000     Area046          1995      235.1088   \n",
       "6815       OPM10           20.000000     Area017          2005      193.6292   \n",
       "6816       SLY12           10.180000     Area045          2000      162.8682   \n",
       "6817       ATT10            7.930000     Area018          2007      177.5500   \n",
       "\n",
       "           Medicine_Type SidEffect_Level  Availability_rating  \\\n",
       "0           Antimalarial        critical             0.070422   \n",
       "1            Mstablizers            mild             0.013000   \n",
       "2                Cardiac            mild             0.060783   \n",
       "3     OralContraceptives            mild             0.065555   \n",
       "4          Hreplacements        critical             0.248859   \n",
       "...                  ...             ...                  ...   \n",
       "6813       Hreplacements            mild             0.112963   \n",
       "6814       Hreplacements            mild             0.131103   \n",
       "6815        Antimalarial        critical             0.105096   \n",
       "6816             Statins            mild             0.099957   \n",
       "6817         Mstablizers        critical             0.117445   \n",
       "\n",
       "               Area_Type Area_City_Type Area_dist_level  Counterfeit_Sales  \n",
       "0               DownTown         Tier 1           Small          1775.5026  \n",
       "1             CityLimits         Tier 3          Medium          3069.1520  \n",
       "2               DownTown         Tier 1           Small          2603.0920  \n",
       "3               DownTown         Tier 1           Small          1101.7130  \n",
       "4     MidTownResidential         Tier 1           Small           158.9402  \n",
       "...                  ...            ...             ...                ...  \n",
       "6813            DownTown         Tier 1           Small          2070.4520  \n",
       "6814            DownTown         Tier 1           Small          2126.3792  \n",
       "6815            DownTown         Tier 2         Unknown          2119.7212  \n",
       "6816            DownTown         Tier 2         Unknown          1485.2138  \n",
       "6817          Industrial         Tier 3          Medium          1943.9500  \n",
       "\n",
       "[6818 rows x 12 columns]"
      ]
     },
     "execution_count": 30,
     "metadata": {},
     "output_type": "execute_result"
    }
   ],
   "source": [
    "df_train"
   ]
  },
  {
   "cell_type": "code",
   "execution_count": 31,
   "metadata": {},
   "outputs": [],
   "source": [
    "for col in [ 'Medicine_ID']:\n",
    "    df_train.drop(col,1,inplace=True)\n",
    "    df_test.drop(col,1,inplace=True)"
   ]
  },
  {
   "cell_type": "code",
   "execution_count": 42,
   "metadata": {},
   "outputs": [
    {
     "name": "stdout",
     "output_type": "stream",
     "text": [
      "<class 'pandas.core.frame.DataFrame'>\n",
      "RangeIndex: 6818 entries, 0 to 6817\n",
      "Data columns (total 11 columns):\n",
      "Counterfeit_Weight     6818 non-null float64\n",
      "DistArea_ID            6818 non-null object\n",
      "Active_Since           6818 non-null int64\n",
      "Medicine_MRP           6818 non-null float64\n",
      "Medicine_Type          6818 non-null object\n",
      "SidEffect_Level        6818 non-null object\n",
      "Availability_rating    6818 non-null float64\n",
      "Area_Type              6818 non-null object\n",
      "Area_City_Type         6818 non-null object\n",
      "Area_dist_level        6818 non-null object\n",
      "Counterfeit_Sales      6818 non-null float64\n",
      "dtypes: float64(4), int64(1), object(6)\n",
      "memory usage: 586.0+ KB\n"
     ]
    }
   ],
   "source": [
    "df_train.info()"
   ]
  },
  {
   "cell_type": "code",
   "execution_count": 34,
   "metadata": {},
   "outputs": [
    {
     "data": {
      "text/plain": [
       "(1705, 10)"
      ]
     },
     "execution_count": 34,
     "metadata": {},
     "output_type": "execute_result"
    }
   ],
   "source": [
    "df_test.shape"
   ]
  },
  {
   "cell_type": "code",
   "execution_count": 45,
   "metadata": {},
   "outputs": [],
   "source": [
    "cols=df_train.select_dtypes(['object']).columns"
   ]
  },
  {
   "cell_type": "code",
   "execution_count": 49,
   "metadata": {},
   "outputs": [
    {
     "data": {
      "text/plain": [
       "DistArea_ID        1\n",
       "SidEffect_Level    1\n",
       "Area_Type          1\n",
       "Area_dist_level    1\n",
       "Area_City_Type     1\n",
       "Medicine_Type      1\n",
       "dtype: int64"
      ]
     },
     "execution_count": 49,
     "metadata": {},
     "output_type": "execute_result"
    }
   ],
   "source": [
    "cols.value_counts()"
   ]
  },
  {
   "cell_type": "code",
   "execution_count": 51,
   "metadata": {},
   "outputs": [
    {
     "name": "stdout",
     "output_type": "stream",
     "text": [
      "Area017    760\n",
      "Area013    749\n",
      "Area046    749\n",
      "Area035    748\n",
      "Area049    739\n",
      "Area045    736\n",
      "Area027    735\n",
      "Area018    729\n",
      "Area010    442\n",
      "Area019    431\n",
      "Name: DistArea_ID, dtype: int64\n",
      "Hreplacements         976\n",
      "Antibiotics           970\n",
      "Antiseptics           724\n",
      "OralContraceptives    694\n",
      "Antipyretics          536\n",
      "Cardiac               522\n",
      "Mstablizers           514\n",
      "Tranquilizers         420\n",
      "Analgesics            356\n",
      "Antimalarial          339\n",
      "Antacids              206\n",
      "Statins               167\n",
      "MuscleRelaxants       139\n",
      "Antifungal            111\n",
      "Stimulants             95\n",
      "Antiviral              49\n",
      "Name: Medicine_Type, dtype: int64\n",
      "mild        4434\n",
      "critical    2384\n",
      "Name: SidEffect_Level, dtype: int64\n",
      "DownTown              4481\n",
      "MidTownResidential     873\n",
      "CityLimits             735\n",
      "Industrial             729\n",
      "Name: Area_Type, dtype: int64\n",
      "Tier 3    2655\n",
      "Tier 2    2244\n",
      "Tier 1    1919\n",
      "Name: Area_City_Type, dtype: int64\n",
      "Medium     2203\n",
      "Unknown    1938\n",
      "Small      1928\n",
      "High        749\n",
      "Name: Area_dist_level, dtype: int64\n"
     ]
    }
   ],
   "source": [
    "for col in cols:\n",
    "    print(df_train[col].value_counts())"
   ]
  },
  {
   "cell_type": "code",
   "execution_count": 52,
   "metadata": {},
   "outputs": [
    {
     "name": "stdout",
     "output_type": "stream",
     "text": [
      "Index(['DistArea_ID', 'Medicine_Type', 'SidEffect_Level', 'Area_Type',\n",
      "       'Area_City_Type', 'Area_dist_level'],\n",
      "      dtype='object')\n"
     ]
    }
   ],
   "source": [
    "cols=df_train.select_dtypes(['object']).columns\n",
    "print(cols)"
   ]
  },
  {
   "cell_type": "code",
   "execution_count": 53,
   "metadata": {},
   "outputs": [],
   "source": [
    "for col in cols:\n",
    "    temp=pd.get_dummies(df_train[col],prefix=col,drop_first=True)\n",
    "    df_train=pd.concat([temp,df_train],1)\n",
    "    df_train.drop([col],1,inplace=True)\n",
    "       \n",
    "    temp=pd.get_dummies(df_test[col],prefix=col,drop_first=True)\n",
    "    df_test=pd.concat([temp,df_test],1)\n",
    "    df_test.drop([col],1,inplace=True)"
   ]
  },
  {
   "cell_type": "code",
   "execution_count": 55,
   "metadata": {},
   "outputs": [
    {
     "data": {
      "text/html": [
       "<div>\n",
       "<style scoped>\n",
       "    .dataframe tbody tr th:only-of-type {\n",
       "        vertical-align: middle;\n",
       "    }\n",
       "\n",
       "    .dataframe tbody tr th {\n",
       "        vertical-align: top;\n",
       "    }\n",
       "\n",
       "    .dataframe thead th {\n",
       "        text-align: right;\n",
       "    }\n",
       "</style>\n",
       "<table border=\"1\" class=\"dataframe\">\n",
       "  <thead>\n",
       "    <tr style=\"text-align: right;\">\n",
       "      <th></th>\n",
       "      <th>Area_dist_level_Medium</th>\n",
       "      <th>Area_dist_level_Small</th>\n",
       "      <th>Area_dist_level_Unknown</th>\n",
       "      <th>Area_City_Type_Tier 2</th>\n",
       "      <th>Area_City_Type_Tier 3</th>\n",
       "      <th>Area_Type_DownTown</th>\n",
       "      <th>Area_Type_Industrial</th>\n",
       "      <th>Area_Type_MidTownResidential</th>\n",
       "      <th>SidEffect_Level_mild</th>\n",
       "      <th>Medicine_Type_Antacids</th>\n",
       "      <th>...</th>\n",
       "      <th>DistArea_ID_Area027</th>\n",
       "      <th>DistArea_ID_Area035</th>\n",
       "      <th>DistArea_ID_Area045</th>\n",
       "      <th>DistArea_ID_Area046</th>\n",
       "      <th>DistArea_ID_Area049</th>\n",
       "      <th>Counterfeit_Weight</th>\n",
       "      <th>Active_Since</th>\n",
       "      <th>Medicine_MRP</th>\n",
       "      <th>Availability_rating</th>\n",
       "      <th>Counterfeit_Sales</th>\n",
       "    </tr>\n",
       "  </thead>\n",
       "  <tbody>\n",
       "    <tr>\n",
       "      <td>0</td>\n",
       "      <td>0</td>\n",
       "      <td>1</td>\n",
       "      <td>0</td>\n",
       "      <td>0</td>\n",
       "      <td>0</td>\n",
       "      <td>1</td>\n",
       "      <td>0</td>\n",
       "      <td>0</td>\n",
       "      <td>0</td>\n",
       "      <td>0</td>\n",
       "      <td>...</td>\n",
       "      <td>0</td>\n",
       "      <td>0</td>\n",
       "      <td>0</td>\n",
       "      <td>1</td>\n",
       "      <td>0</td>\n",
       "      <td>13.100000</td>\n",
       "      <td>1995</td>\n",
       "      <td>160.2366</td>\n",
       "      <td>0.070422</td>\n",
       "      <td>1775.5026</td>\n",
       "    </tr>\n",
       "    <tr>\n",
       "      <td>1</td>\n",
       "      <td>1</td>\n",
       "      <td>0</td>\n",
       "      <td>0</td>\n",
       "      <td>0</td>\n",
       "      <td>1</td>\n",
       "      <td>0</td>\n",
       "      <td>0</td>\n",
       "      <td>0</td>\n",
       "      <td>1</td>\n",
       "      <td>0</td>\n",
       "      <td>...</td>\n",
       "      <td>1</td>\n",
       "      <td>0</td>\n",
       "      <td>0</td>\n",
       "      <td>0</td>\n",
       "      <td>0</td>\n",
       "      <td>14.115057</td>\n",
       "      <td>1983</td>\n",
       "      <td>110.4384</td>\n",
       "      <td>0.013000</td>\n",
       "      <td>3069.1520</td>\n",
       "    </tr>\n",
       "    <tr>\n",
       "      <td>2</td>\n",
       "      <td>0</td>\n",
       "      <td>1</td>\n",
       "      <td>0</td>\n",
       "      <td>0</td>\n",
       "      <td>0</td>\n",
       "      <td>1</td>\n",
       "      <td>0</td>\n",
       "      <td>0</td>\n",
       "      <td>1</td>\n",
       "      <td>0</td>\n",
       "      <td>...</td>\n",
       "      <td>0</td>\n",
       "      <td>0</td>\n",
       "      <td>0</td>\n",
       "      <td>1</td>\n",
       "      <td>0</td>\n",
       "      <td>9.025000</td>\n",
       "      <td>1995</td>\n",
       "      <td>259.4092</td>\n",
       "      <td>0.060783</td>\n",
       "      <td>2603.0920</td>\n",
       "    </tr>\n",
       "    <tr>\n",
       "      <td>3</td>\n",
       "      <td>0</td>\n",
       "      <td>1</td>\n",
       "      <td>0</td>\n",
       "      <td>0</td>\n",
       "      <td>0</td>\n",
       "      <td>1</td>\n",
       "      <td>0</td>\n",
       "      <td>0</td>\n",
       "      <td>1</td>\n",
       "      <td>0</td>\n",
       "      <td>...</td>\n",
       "      <td>0</td>\n",
       "      <td>0</td>\n",
       "      <td>0</td>\n",
       "      <td>1</td>\n",
       "      <td>0</td>\n",
       "      <td>11.800000</td>\n",
       "      <td>1995</td>\n",
       "      <td>99.9830</td>\n",
       "      <td>0.065555</td>\n",
       "      <td>1101.7130</td>\n",
       "    </tr>\n",
       "    <tr>\n",
       "      <td>4</td>\n",
       "      <td>0</td>\n",
       "      <td>1</td>\n",
       "      <td>0</td>\n",
       "      <td>0</td>\n",
       "      <td>0</td>\n",
       "      <td>0</td>\n",
       "      <td>0</td>\n",
       "      <td>1</td>\n",
       "      <td>0</td>\n",
       "      <td>0</td>\n",
       "      <td>...</td>\n",
       "      <td>0</td>\n",
       "      <td>0</td>\n",
       "      <td>0</td>\n",
       "      <td>0</td>\n",
       "      <td>0</td>\n",
       "      <td>14.115057</td>\n",
       "      <td>1983</td>\n",
       "      <td>56.4402</td>\n",
       "      <td>0.248859</td>\n",
       "      <td>158.9402</td>\n",
       "    </tr>\n",
       "    <tr>\n",
       "      <td>5</td>\n",
       "      <td>0</td>\n",
       "      <td>0</td>\n",
       "      <td>1</td>\n",
       "      <td>1</td>\n",
       "      <td>0</td>\n",
       "      <td>1</td>\n",
       "      <td>0</td>\n",
       "      <td>0</td>\n",
       "      <td>1</td>\n",
       "      <td>0</td>\n",
       "      <td>...</td>\n",
       "      <td>0</td>\n",
       "      <td>0</td>\n",
       "      <td>1</td>\n",
       "      <td>0</td>\n",
       "      <td>0</td>\n",
       "      <td>8.775000</td>\n",
       "      <td>2000</td>\n",
       "      <td>165.5656</td>\n",
       "      <td>0.088881</td>\n",
       "      <td>3047.8464</td>\n",
       "    </tr>\n",
       "    <tr>\n",
       "      <td>6</td>\n",
       "      <td>1</td>\n",
       "      <td>0</td>\n",
       "      <td>0</td>\n",
       "      <td>0</td>\n",
       "      <td>1</td>\n",
       "      <td>0</td>\n",
       "      <td>1</td>\n",
       "      <td>0</td>\n",
       "      <td>0</td>\n",
       "      <td>0</td>\n",
       "      <td>...</td>\n",
       "      <td>0</td>\n",
       "      <td>0</td>\n",
       "      <td>0</td>\n",
       "      <td>0</td>\n",
       "      <td>0</td>\n",
       "      <td>18.000000</td>\n",
       "      <td>2007</td>\n",
       "      <td>156.9102</td>\n",
       "      <td>0.051685</td>\n",
       "      <td>2883.3938</td>\n",
       "    </tr>\n",
       "    <tr>\n",
       "      <td>7</td>\n",
       "      <td>0</td>\n",
       "      <td>0</td>\n",
       "      <td>0</td>\n",
       "      <td>0</td>\n",
       "      <td>1</td>\n",
       "      <td>1</td>\n",
       "      <td>0</td>\n",
       "      <td>0</td>\n",
       "      <td>1</td>\n",
       "      <td>0</td>\n",
       "      <td>...</td>\n",
       "      <td>0</td>\n",
       "      <td>0</td>\n",
       "      <td>0</td>\n",
       "      <td>0</td>\n",
       "      <td>0</td>\n",
       "      <td>7.680000</td>\n",
       "      <td>1985</td>\n",
       "      <td>154.3470</td>\n",
       "      <td>0.028150</td>\n",
       "      <td>3262.2340</td>\n",
       "    </tr>\n",
       "    <tr>\n",
       "      <td>8</td>\n",
       "      <td>0</td>\n",
       "      <td>1</td>\n",
       "      <td>0</td>\n",
       "      <td>0</td>\n",
       "      <td>0</td>\n",
       "      <td>1</td>\n",
       "      <td>0</td>\n",
       "      <td>0</td>\n",
       "      <td>0</td>\n",
       "      <td>0</td>\n",
       "      <td>...</td>\n",
       "      <td>0</td>\n",
       "      <td>0</td>\n",
       "      <td>0</td>\n",
       "      <td>1</td>\n",
       "      <td>0</td>\n",
       "      <td>18.550000</td>\n",
       "      <td>1995</td>\n",
       "      <td>107.3068</td>\n",
       "      <td>0.060266</td>\n",
       "      <td>1959.9292</td>\n",
       "    </tr>\n",
       "    <tr>\n",
       "      <td>9</td>\n",
       "      <td>0</td>\n",
       "      <td>0</td>\n",
       "      <td>0</td>\n",
       "      <td>0</td>\n",
       "      <td>1</td>\n",
       "      <td>1</td>\n",
       "      <td>0</td>\n",
       "      <td>0</td>\n",
       "      <td>1</td>\n",
       "      <td>0</td>\n",
       "      <td>...</td>\n",
       "      <td>0</td>\n",
       "      <td>0</td>\n",
       "      <td>0</td>\n",
       "      <td>0</td>\n",
       "      <td>0</td>\n",
       "      <td>9.510000</td>\n",
       "      <td>1985</td>\n",
       "      <td>161.1392</td>\n",
       "      <td>0.023755</td>\n",
       "      <td>3095.7840</td>\n",
       "    </tr>\n",
       "  </tbody>\n",
       "</table>\n",
       "<p>10 rows × 38 columns</p>\n",
       "</div>"
      ],
      "text/plain": [
       "   Area_dist_level_Medium  Area_dist_level_Small  Area_dist_level_Unknown  \\\n",
       "0                       0                      1                        0   \n",
       "1                       1                      0                        0   \n",
       "2                       0                      1                        0   \n",
       "3                       0                      1                        0   \n",
       "4                       0                      1                        0   \n",
       "5                       0                      0                        1   \n",
       "6                       1                      0                        0   \n",
       "7                       0                      0                        0   \n",
       "8                       0                      1                        0   \n",
       "9                       0                      0                        0   \n",
       "\n",
       "   Area_City_Type_Tier 2  Area_City_Type_Tier 3  Area_Type_DownTown  \\\n",
       "0                      0                      0                   1   \n",
       "1                      0                      1                   0   \n",
       "2                      0                      0                   1   \n",
       "3                      0                      0                   1   \n",
       "4                      0                      0                   0   \n",
       "5                      1                      0                   1   \n",
       "6                      0                      1                   0   \n",
       "7                      0                      1                   1   \n",
       "8                      0                      0                   1   \n",
       "9                      0                      1                   1   \n",
       "\n",
       "   Area_Type_Industrial  Area_Type_MidTownResidential  SidEffect_Level_mild  \\\n",
       "0                     0                             0                     0   \n",
       "1                     0                             0                     1   \n",
       "2                     0                             0                     1   \n",
       "3                     0                             0                     1   \n",
       "4                     0                             1                     0   \n",
       "5                     0                             0                     1   \n",
       "6                     1                             0                     0   \n",
       "7                     0                             0                     1   \n",
       "8                     0                             0                     0   \n",
       "9                     0                             0                     1   \n",
       "\n",
       "   Medicine_Type_Antacids  ...  DistArea_ID_Area027  DistArea_ID_Area035  \\\n",
       "0                       0  ...                    0                    0   \n",
       "1                       0  ...                    1                    0   \n",
       "2                       0  ...                    0                    0   \n",
       "3                       0  ...                    0                    0   \n",
       "4                       0  ...                    0                    0   \n",
       "5                       0  ...                    0                    0   \n",
       "6                       0  ...                    0                    0   \n",
       "7                       0  ...                    0                    0   \n",
       "8                       0  ...                    0                    0   \n",
       "9                       0  ...                    0                    0   \n",
       "\n",
       "   DistArea_ID_Area045  DistArea_ID_Area046  DistArea_ID_Area049  \\\n",
       "0                    0                    1                    0   \n",
       "1                    0                    0                    0   \n",
       "2                    0                    1                    0   \n",
       "3                    0                    1                    0   \n",
       "4                    0                    0                    0   \n",
       "5                    1                    0                    0   \n",
       "6                    0                    0                    0   \n",
       "7                    0                    0                    0   \n",
       "8                    0                    1                    0   \n",
       "9                    0                    0                    0   \n",
       "\n",
       "   Counterfeit_Weight  Active_Since  Medicine_MRP  Availability_rating  \\\n",
       "0           13.100000          1995      160.2366             0.070422   \n",
       "1           14.115057          1983      110.4384             0.013000   \n",
       "2            9.025000          1995      259.4092             0.060783   \n",
       "3           11.800000          1995       99.9830             0.065555   \n",
       "4           14.115057          1983       56.4402             0.248859   \n",
       "5            8.775000          2000      165.5656             0.088881   \n",
       "6           18.000000          2007      156.9102             0.051685   \n",
       "7            7.680000          1985      154.3470             0.028150   \n",
       "8           18.550000          1995      107.3068             0.060266   \n",
       "9            9.510000          1985      161.1392             0.023755   \n",
       "\n",
       "   Counterfeit_Sales  \n",
       "0          1775.5026  \n",
       "1          3069.1520  \n",
       "2          2603.0920  \n",
       "3          1101.7130  \n",
       "4           158.9402  \n",
       "5          3047.8464  \n",
       "6          2883.3938  \n",
       "7          3262.2340  \n",
       "8          1959.9292  \n",
       "9          3095.7840  \n",
       "\n",
       "[10 rows x 38 columns]"
      ]
     },
     "execution_count": 55,
     "metadata": {},
     "output_type": "execute_result"
    }
   ],
   "source": [
    "df_train.head(10)"
   ]
  },
  {
   "cell_type": "code",
   "execution_count": 56,
   "metadata": {},
   "outputs": [
    {
     "data": {
      "text/html": [
       "<div>\n",
       "<style scoped>\n",
       "    .dataframe tbody tr th:only-of-type {\n",
       "        vertical-align: middle;\n",
       "    }\n",
       "\n",
       "    .dataframe tbody tr th {\n",
       "        vertical-align: top;\n",
       "    }\n",
       "\n",
       "    .dataframe thead th {\n",
       "        text-align: right;\n",
       "    }\n",
       "</style>\n",
       "<table border=\"1\" class=\"dataframe\">\n",
       "  <thead>\n",
       "    <tr style=\"text-align: right;\">\n",
       "      <th></th>\n",
       "      <th>Area_dist_level_Medium</th>\n",
       "      <th>Area_dist_level_Small</th>\n",
       "      <th>Area_dist_level_Unknown</th>\n",
       "      <th>Area_City_Type_Tier 2</th>\n",
       "      <th>Area_City_Type_Tier 3</th>\n",
       "      <th>Area_Type_DownTown</th>\n",
       "      <th>Area_Type_Industrial</th>\n",
       "      <th>Area_Type_MidTownResidential</th>\n",
       "      <th>SidEffect_Level_mild</th>\n",
       "      <th>Medicine_Type_Antacids</th>\n",
       "      <th>...</th>\n",
       "      <th>DistArea_ID_Area019</th>\n",
       "      <th>DistArea_ID_Area027</th>\n",
       "      <th>DistArea_ID_Area035</th>\n",
       "      <th>DistArea_ID_Area045</th>\n",
       "      <th>DistArea_ID_Area046</th>\n",
       "      <th>DistArea_ID_Area049</th>\n",
       "      <th>Counterfeit_Weight</th>\n",
       "      <th>Active_Since</th>\n",
       "      <th>Medicine_MRP</th>\n",
       "      <th>Availability_rating</th>\n",
       "    </tr>\n",
       "  </thead>\n",
       "  <tbody>\n",
       "    <tr>\n",
       "      <td>0</td>\n",
       "      <td>1</td>\n",
       "      <td>0</td>\n",
       "      <td>0</td>\n",
       "      <td>0</td>\n",
       "      <td>1</td>\n",
       "      <td>0</td>\n",
       "      <td>0</td>\n",
       "      <td>0</td>\n",
       "      <td>1</td>\n",
       "      <td>0</td>\n",
       "      <td>...</td>\n",
       "      <td>0</td>\n",
       "      <td>1</td>\n",
       "      <td>0</td>\n",
       "      <td>0</td>\n",
       "      <td>0</td>\n",
       "      <td>0</td>\n",
       "      <td>14.328604</td>\n",
       "      <td>1983</td>\n",
       "      <td>85.5328</td>\n",
       "      <td>0.112747</td>\n",
       "    </tr>\n",
       "    <tr>\n",
       "      <td>1</td>\n",
       "      <td>0</td>\n",
       "      <td>0</td>\n",
       "      <td>1</td>\n",
       "      <td>1</td>\n",
       "      <td>0</td>\n",
       "      <td>1</td>\n",
       "      <td>0</td>\n",
       "      <td>0</td>\n",
       "      <td>1</td>\n",
       "      <td>0</td>\n",
       "      <td>...</td>\n",
       "      <td>0</td>\n",
       "      <td>0</td>\n",
       "      <td>0</td>\n",
       "      <td>1</td>\n",
       "      <td>0</td>\n",
       "      <td>0</td>\n",
       "      <td>13.450000</td>\n",
       "      <td>2000</td>\n",
       "      <td>257.1460</td>\n",
       "      <td>0.144446</td>\n",
       "    </tr>\n",
       "    <tr>\n",
       "      <td>2</td>\n",
       "      <td>0</td>\n",
       "      <td>0</td>\n",
       "      <td>1</td>\n",
       "      <td>1</td>\n",
       "      <td>0</td>\n",
       "      <td>1</td>\n",
       "      <td>0</td>\n",
       "      <td>0</td>\n",
       "      <td>1</td>\n",
       "      <td>0</td>\n",
       "      <td>...</td>\n",
       "      <td>0</td>\n",
       "      <td>0</td>\n",
       "      <td>0</td>\n",
       "      <td>1</td>\n",
       "      <td>0</td>\n",
       "      <td>0</td>\n",
       "      <td>7.100000</td>\n",
       "      <td>2000</td>\n",
       "      <td>98.1172</td>\n",
       "      <td>0.144221</td>\n",
       "    </tr>\n",
       "    <tr>\n",
       "      <td>3</td>\n",
       "      <td>0</td>\n",
       "      <td>0</td>\n",
       "      <td>1</td>\n",
       "      <td>0</td>\n",
       "      <td>1</td>\n",
       "      <td>0</td>\n",
       "      <td>0</td>\n",
       "      <td>1</td>\n",
       "      <td>1</td>\n",
       "      <td>0</td>\n",
       "      <td>...</td>\n",
       "      <td>0</td>\n",
       "      <td>0</td>\n",
       "      <td>0</td>\n",
       "      <td>0</td>\n",
       "      <td>0</td>\n",
       "      <td>0</td>\n",
       "      <td>18.300000</td>\n",
       "      <td>1996</td>\n",
       "      <td>135.3730</td>\n",
       "      <td>0.100388</td>\n",
       "    </tr>\n",
       "    <tr>\n",
       "      <td>4</td>\n",
       "      <td>0</td>\n",
       "      <td>1</td>\n",
       "      <td>0</td>\n",
       "      <td>0</td>\n",
       "      <td>0</td>\n",
       "      <td>0</td>\n",
       "      <td>0</td>\n",
       "      <td>1</td>\n",
       "      <td>1</td>\n",
       "      <td>0</td>\n",
       "      <td>...</td>\n",
       "      <td>1</td>\n",
       "      <td>0</td>\n",
       "      <td>0</td>\n",
       "      <td>0</td>\n",
       "      <td>0</td>\n",
       "      <td>0</td>\n",
       "      <td>14.328604</td>\n",
       "      <td>1983</td>\n",
       "      <td>112.8016</td>\n",
       "      <td>0.022585</td>\n",
       "    </tr>\n",
       "  </tbody>\n",
       "</table>\n",
       "<p>5 rows × 37 columns</p>\n",
       "</div>"
      ],
      "text/plain": [
       "   Area_dist_level_Medium  Area_dist_level_Small  Area_dist_level_Unknown  \\\n",
       "0                       1                      0                        0   \n",
       "1                       0                      0                        1   \n",
       "2                       0                      0                        1   \n",
       "3                       0                      0                        1   \n",
       "4                       0                      1                        0   \n",
       "\n",
       "   Area_City_Type_Tier 2  Area_City_Type_Tier 3  Area_Type_DownTown  \\\n",
       "0                      0                      1                   0   \n",
       "1                      1                      0                   1   \n",
       "2                      1                      0                   1   \n",
       "3                      0                      1                   0   \n",
       "4                      0                      0                   0   \n",
       "\n",
       "   Area_Type_Industrial  Area_Type_MidTownResidential  SidEffect_Level_mild  \\\n",
       "0                     0                             0                     1   \n",
       "1                     0                             0                     1   \n",
       "2                     0                             0                     1   \n",
       "3                     0                             1                     1   \n",
       "4                     0                             1                     1   \n",
       "\n",
       "   Medicine_Type_Antacids  ...  DistArea_ID_Area019  DistArea_ID_Area027  \\\n",
       "0                       0  ...                    0                    1   \n",
       "1                       0  ...                    0                    0   \n",
       "2                       0  ...                    0                    0   \n",
       "3                       0  ...                    0                    0   \n",
       "4                       0  ...                    1                    0   \n",
       "\n",
       "   DistArea_ID_Area035  DistArea_ID_Area045  DistArea_ID_Area046  \\\n",
       "0                    0                    0                    0   \n",
       "1                    0                    1                    0   \n",
       "2                    0                    1                    0   \n",
       "3                    0                    0                    0   \n",
       "4                    0                    0                    0   \n",
       "\n",
       "   DistArea_ID_Area049  Counterfeit_Weight  Active_Since  Medicine_MRP  \\\n",
       "0                    0           14.328604          1983       85.5328   \n",
       "1                    0           13.450000          2000      257.1460   \n",
       "2                    0            7.100000          2000       98.1172   \n",
       "3                    0           18.300000          1996      135.3730   \n",
       "4                    0           14.328604          1983      112.8016   \n",
       "\n",
       "   Availability_rating  \n",
       "0             0.112747  \n",
       "1             0.144446  \n",
       "2             0.144221  \n",
       "3             0.100388  \n",
       "4             0.022585  \n",
       "\n",
       "[5 rows x 37 columns]"
      ]
     },
     "execution_count": 56,
     "metadata": {},
     "output_type": "execute_result"
    }
   ],
   "source": [
    "df_test.head(5)"
   ]
  },
  {
   "cell_type": "code",
   "execution_count": 62,
   "metadata": {},
   "outputs": [],
   "source": [
    "target='Counterfeit_Sales'"
   ]
  },
  {
   "cell_type": "code",
   "execution_count": 63,
   "metadata": {},
   "outputs": [],
   "source": [
    "##now x_train and y_train\n",
    "x_train=df_train.drop(target,1)\n",
    "y_train=df_train[target]"
   ]
  },
  {
   "cell_type": "code",
   "execution_count": 65,
   "metadata": {},
   "outputs": [
    {
     "data": {
      "text/plain": [
       "(6818, 37)"
      ]
     },
     "execution_count": 65,
     "metadata": {},
     "output_type": "execute_result"
    }
   ],
   "source": [
    "x_train.shape"
   ]
  },
  {
   "cell_type": "code",
   "execution_count": 66,
   "metadata": {},
   "outputs": [
    {
     "data": {
      "text/plain": [
       "(6818,)"
      ]
     },
     "execution_count": 66,
     "metadata": {},
     "output_type": "execute_result"
    }
   ],
   "source": [
    "y_train.shape"
   ]
  },
  {
   "cell_type": "code",
   "execution_count": 67,
   "metadata": {},
   "outputs": [],
   "source": [
    "from sklearn.linear_model import Lasso\n",
    "from sklearn.model_selection import GridSearchCV"
   ]
  },
  {
   "cell_type": "code",
   "execution_count": 68,
   "metadata": {},
   "outputs": [],
   "source": [
    "model=Lasso(fit_intercept=True)"
   ]
  },
  {
   "cell_type": "code",
   "execution_count": 70,
   "metadata": {},
   "outputs": [],
   "source": [
    "params={'alpha':np.linspace(0.1,100,50)}"
   ]
  },
  {
   "cell_type": "code",
   "execution_count": 71,
   "metadata": {},
   "outputs": [],
   "source": [
    "grid_search=GridSearchCV(model,cv=10,param_grid=params,n_jobs=-1,verbose=10,\n",
    "                         scoring='neg_mean_absolute_error')"
   ]
  },
  {
   "cell_type": "code",
   "execution_count": 72,
   "metadata": {},
   "outputs": [
    {
     "name": "stdout",
     "output_type": "stream",
     "text": [
      "Fitting 10 folds for each of 50 candidates, totalling 500 fits\n"
     ]
    },
    {
     "name": "stderr",
     "output_type": "stream",
     "text": [
      "[Parallel(n_jobs=-1)]: Using backend LokyBackend with 4 concurrent workers.\n",
      "[Parallel(n_jobs=-1)]: Done   5 tasks      | elapsed:    7.8s\n",
      "[Parallel(n_jobs=-1)]: Done  10 tasks      | elapsed:    8.0s\n",
      "[Parallel(n_jobs=-1)]: Done  17 tasks      | elapsed:    8.3s\n",
      "[Parallel(n_jobs=-1)]: Done  24 tasks      | elapsed:    8.6s\n",
      "[Parallel(n_jobs=-1)]: Done  33 tasks      | elapsed:    8.8s\n",
      "[Parallel(n_jobs=-1)]: Batch computation too fast (0.1836s.) Setting batch_size=2.\n",
      "[Parallel(n_jobs=-1)]: Done  42 tasks      | elapsed:    8.9s\n",
      "[Parallel(n_jobs=-1)]: Batch computation too fast (0.1802s.) Setting batch_size=4.\n",
      "[Parallel(n_jobs=-1)]: Done  59 tasks      | elapsed:    9.3s\n",
      "[Parallel(n_jobs=-1)]: Done  99 tasks      | elapsed:    9.9s\n",
      "[Parallel(n_jobs=-1)]: Done 151 tasks      | elapsed:   10.4s\n",
      "[Parallel(n_jobs=-1)]: Done 203 tasks      | elapsed:   11.0s\n",
      "[Parallel(n_jobs=-1)]: Done 263 tasks      | elapsed:   11.6s\n",
      "[Parallel(n_jobs=-1)]: Done 323 tasks      | elapsed:   12.3s\n",
      "[Parallel(n_jobs=-1)]: Done 391 tasks      | elapsed:   12.9s\n",
      "[Parallel(n_jobs=-1)]: Done 459 tasks      | elapsed:   13.7s\n",
      "[Parallel(n_jobs=-1)]: Done 500 out of 500 | elapsed:   14.1s finished\n"
     ]
    },
    {
     "data": {
      "text/plain": [
       "GridSearchCV(cv=10, error_score='raise-deprecating',\n",
       "             estimator=Lasso(alpha=1.0, copy_X=True, fit_intercept=True,\n",
       "                             max_iter=1000, normalize=False, positive=False,\n",
       "                             precompute=False, random_state=None,\n",
       "                             selection='cyclic', tol=0.0001, warm_start=False),\n",
       "             iid='warn', n_jobs=-1,\n",
       "             param_grid={'alpha': array([  0.1       ,   2.13877551,   4.17755102,   6.21632653,\n",
       "         8.25510204,  10.29387755,  12.332...\n",
       "        57.18571429,  59.2244898 ,  61.26326531,  63.30204082,\n",
       "        65.34081633,  67.37959184,  69.41836735,  71.45714286,\n",
       "        73.49591837,  75.53469388,  77.57346939,  79.6122449 ,\n",
       "        81.65102041,  83.68979592,  85.72857143,  87.76734694,\n",
       "        89.80612245,  91.84489796,  93.88367347,  95.92244898,\n",
       "        97.96122449, 100.        ])},\n",
       "             pre_dispatch='2*n_jobs', refit=True, return_train_score=False,\n",
       "             scoring='neg_mean_absolute_error', verbose=10)"
      ]
     },
     "execution_count": 72,
     "metadata": {},
     "output_type": "execute_result"
    }
   ],
   "source": [
    "grid_search.fit(x_train,y_train)"
   ]
  },
  {
   "cell_type": "code",
   "execution_count": 73,
   "metadata": {},
   "outputs": [
    {
     "data": {
      "text/plain": [
       "Lasso(alpha=8.255102040816327, copy_X=True, fit_intercept=True, max_iter=1000,\n",
       "      normalize=False, positive=False, precompute=False, random_state=None,\n",
       "      selection='cyclic', tol=0.0001, warm_start=False)"
      ]
     },
     "execution_count": 73,
     "metadata": {},
     "output_type": "execute_result"
    }
   ],
   "source": [
    "grid_search.best_estimator_"
   ]
  },
  {
   "cell_type": "code",
   "execution_count": 74,
   "metadata": {},
   "outputs": [
    {
     "data": {
      "text/plain": [
       "825.5200781920195"
      ]
     },
     "execution_count": 74,
     "metadata": {},
     "output_type": "execute_result"
    }
   ],
   "source": [
    "abs(grid_search.best_score_)"
   ]
  },
  {
   "cell_type": "code",
   "execution_count": 75,
   "metadata": {},
   "outputs": [],
   "source": [
    "submissions=pd.DataFrame({target:grid_search.predict(df_test)})"
   ]
  },
  {
   "cell_type": "code",
   "execution_count": 76,
   "metadata": {},
   "outputs": [
    {
     "data": {
      "text/html": [
       "<div>\n",
       "<style scoped>\n",
       "    .dataframe tbody tr th:only-of-type {\n",
       "        vertical-align: middle;\n",
       "    }\n",
       "\n",
       "    .dataframe tbody tr th {\n",
       "        vertical-align: top;\n",
       "    }\n",
       "\n",
       "    .dataframe thead th {\n",
       "        text-align: right;\n",
       "    }\n",
       "</style>\n",
       "<table border=\"1\" class=\"dataframe\">\n",
       "  <thead>\n",
       "    <tr style=\"text-align: right;\">\n",
       "      <th></th>\n",
       "      <th>Counterfeit_Sales</th>\n",
       "    </tr>\n",
       "  </thead>\n",
       "  <tbody>\n",
       "    <tr>\n",
       "      <td>0</td>\n",
       "      <td>2687.101404</td>\n",
       "    </tr>\n",
       "    <tr>\n",
       "      <td>1</td>\n",
       "      <td>4035.088231</td>\n",
       "    </tr>\n",
       "    <tr>\n",
       "      <td>2</td>\n",
       "      <td>1576.423980</td>\n",
       "    </tr>\n",
       "    <tr>\n",
       "      <td>3</td>\n",
       "      <td>267.342628</td>\n",
       "    </tr>\n",
       "    <tr>\n",
       "      <td>4</td>\n",
       "      <td>-54.767362</td>\n",
       "    </tr>\n",
       "    <tr>\n",
       "      <td>...</td>\n",
       "      <td>...</td>\n",
       "    </tr>\n",
       "    <tr>\n",
       "      <td>1700</td>\n",
       "      <td>3481.613926</td>\n",
       "    </tr>\n",
       "    <tr>\n",
       "      <td>1701</td>\n",
       "      <td>949.410660</td>\n",
       "    </tr>\n",
       "    <tr>\n",
       "      <td>1702</td>\n",
       "      <td>2886.015411</td>\n",
       "    </tr>\n",
       "    <tr>\n",
       "      <td>1703</td>\n",
       "      <td>3953.348828</td>\n",
       "    </tr>\n",
       "    <tr>\n",
       "      <td>1704</td>\n",
       "      <td>3763.366077</td>\n",
       "    </tr>\n",
       "  </tbody>\n",
       "</table>\n",
       "<p>1705 rows × 1 columns</p>\n",
       "</div>"
      ],
      "text/plain": [
       "      Counterfeit_Sales\n",
       "0           2687.101404\n",
       "1           4035.088231\n",
       "2           1576.423980\n",
       "3            267.342628\n",
       "4            -54.767362\n",
       "...                 ...\n",
       "1700        3481.613926\n",
       "1701         949.410660\n",
       "1702        2886.015411\n",
       "1703        3953.348828\n",
       "1704        3763.366077\n",
       "\n",
       "[1705 rows x 1 columns]"
      ]
     },
     "execution_count": 76,
     "metadata": {},
     "output_type": "execute_result"
    }
   ],
   "source": [
    "submissions"
   ]
  },
  {
   "cell_type": "code",
   "execution_count": 77,
   "metadata": {},
   "outputs": [
    {
     "data": {
      "text/plain": [
       "Counterfeit_Sales    2290.375605\n",
       "dtype: float64"
      ]
     },
     "execution_count": 77,
     "metadata": {},
     "output_type": "execute_result"
    }
   ],
   "source": [
    "np.mean(submissions)"
   ]
  },
  {
   "cell_type": "code",
   "execution_count": 78,
   "metadata": {},
   "outputs": [],
   "source": [
    "from sklearn.model_selection import RandomizedSearchCV"
   ]
  },
  {
   "cell_type": "code",
   "execution_count": 80,
   "metadata": {},
   "outputs": [],
   "source": [
    "random_search=RandomizedSearchCV(model,cv=10,param_distributions=params,n_jobs=-1,verbose=10,\n",
    "                         scoring='neg_mean_absolute_error')"
   ]
  },
  {
   "cell_type": "code",
   "execution_count": 81,
   "metadata": {},
   "outputs": [
    {
     "name": "stdout",
     "output_type": "stream",
     "text": [
      "Fitting 10 folds for each of 10 candidates, totalling 100 fits\n"
     ]
    },
    {
     "name": "stderr",
     "output_type": "stream",
     "text": [
      "[Parallel(n_jobs=-1)]: Using backend LokyBackend with 4 concurrent workers.\n",
      "[Parallel(n_jobs=-1)]: Done   5 tasks      | elapsed:    5.7s\n",
      "[Parallel(n_jobs=-1)]: Done  10 tasks      | elapsed:    5.8s\n",
      "[Parallel(n_jobs=-1)]: Done  17 tasks      | elapsed:    5.9s\n",
      "[Parallel(n_jobs=-1)]: Done  24 tasks      | elapsed:    6.1s\n",
      "[Parallel(n_jobs=-1)]: Batch computation too fast (0.1858s.) Setting batch_size=2.\n",
      "[Parallel(n_jobs=-1)]: Done  33 tasks      | elapsed:    6.2s\n",
      "[Parallel(n_jobs=-1)]: Batch computation too fast (0.1375s.) Setting batch_size=4.\n",
      "[Parallel(n_jobs=-1)]: Done  45 tasks      | elapsed:    6.4s\n",
      "[Parallel(n_jobs=-1)]: Done 100 out of 100 | elapsed:    7.0s finished\n"
     ]
    },
    {
     "data": {
      "text/plain": [
       "RandomizedSearchCV(cv=10, error_score='raise-deprecating',\n",
       "                   estimator=Lasso(alpha=1.0, copy_X=True, fit_intercept=True,\n",
       "                                   max_iter=1000, normalize=False,\n",
       "                                   positive=False, precompute=False,\n",
       "                                   random_state=None, selection='cyclic',\n",
       "                                   tol=0.0001, warm_start=False),\n",
       "                   iid='warn', n_iter=10, n_jobs=-1,\n",
       "                   param_distributions={'alpha': array([  0.1       ,   2.13877551,   4.17755102,   6.21632653,\n",
       "         8.25...\n",
       "        57.18571429,  59.2244898 ,  61.26326531,  63.30204082,\n",
       "        65.34081633,  67.37959184,  69.41836735,  71.45714286,\n",
       "        73.49591837,  75.53469388,  77.57346939,  79.6122449 ,\n",
       "        81.65102041,  83.68979592,  85.72857143,  87.76734694,\n",
       "        89.80612245,  91.84489796,  93.88367347,  95.92244898,\n",
       "        97.96122449, 100.        ])},\n",
       "                   pre_dispatch='2*n_jobs', random_state=None, refit=True,\n",
       "                   return_train_score=False, scoring='neg_mean_absolute_error',\n",
       "                   verbose=10)"
      ]
     },
     "execution_count": 81,
     "metadata": {},
     "output_type": "execute_result"
    }
   ],
   "source": [
    "random_search.fit(x_train,y_train)"
   ]
  },
  {
   "cell_type": "code",
   "execution_count": 85,
   "metadata": {},
   "outputs": [],
   "source": [
    "submissions=pd.DataFrame({target:random_search.predict(df_test)})"
   ]
  },
  {
   "cell_type": "code",
   "execution_count": 86,
   "metadata": {},
   "outputs": [
    {
     "data": {
      "text/html": [
       "<div>\n",
       "<style scoped>\n",
       "    .dataframe tbody tr th:only-of-type {\n",
       "        vertical-align: middle;\n",
       "    }\n",
       "\n",
       "    .dataframe tbody tr th {\n",
       "        vertical-align: top;\n",
       "    }\n",
       "\n",
       "    .dataframe thead th {\n",
       "        text-align: right;\n",
       "    }\n",
       "</style>\n",
       "<table border=\"1\" class=\"dataframe\">\n",
       "  <thead>\n",
       "    <tr style=\"text-align: right;\">\n",
       "      <th></th>\n",
       "      <th>Counterfeit_Sales</th>\n",
       "    </tr>\n",
       "  </thead>\n",
       "  <tbody>\n",
       "    <tr>\n",
       "      <td>0</td>\n",
       "      <td>2715.034565</td>\n",
       "    </tr>\n",
       "    <tr>\n",
       "      <td>1</td>\n",
       "      <td>4014.744607</td>\n",
       "    </tr>\n",
       "    <tr>\n",
       "      <td>2</td>\n",
       "      <td>1556.825348</td>\n",
       "    </tr>\n",
       "    <tr>\n",
       "      <td>3</td>\n",
       "      <td>252.280337</td>\n",
       "    </tr>\n",
       "    <tr>\n",
       "      <td>4</td>\n",
       "      <td>-75.150483</td>\n",
       "    </tr>\n",
       "    <tr>\n",
       "      <td>...</td>\n",
       "      <td>...</td>\n",
       "    </tr>\n",
       "    <tr>\n",
       "      <td>1700</td>\n",
       "      <td>3498.932900</td>\n",
       "    </tr>\n",
       "    <tr>\n",
       "      <td>1701</td>\n",
       "      <td>976.438487</td>\n",
       "    </tr>\n",
       "    <tr>\n",
       "      <td>1702</td>\n",
       "      <td>2902.173565</td>\n",
       "    </tr>\n",
       "    <tr>\n",
       "      <td>1703</td>\n",
       "      <td>3932.072408</td>\n",
       "    </tr>\n",
       "    <tr>\n",
       "      <td>1704</td>\n",
       "      <td>3754.224104</td>\n",
       "    </tr>\n",
       "  </tbody>\n",
       "</table>\n",
       "<p>1705 rows × 1 columns</p>\n",
       "</div>"
      ],
      "text/plain": [
       "      Counterfeit_Sales\n",
       "0           2715.034565\n",
       "1           4014.744607\n",
       "2           1556.825348\n",
       "3            252.280337\n",
       "4            -75.150483\n",
       "...                 ...\n",
       "1700        3498.932900\n",
       "1701         976.438487\n",
       "1702        2902.173565\n",
       "1703        3932.072408\n",
       "1704        3754.224104\n",
       "\n",
       "[1705 rows x 1 columns]"
      ]
     },
     "execution_count": 86,
     "metadata": {},
     "output_type": "execute_result"
    }
   ],
   "source": [
    "submissions"
   ]
  },
  {
   "cell_type": "code",
   "execution_count": 87,
   "metadata": {},
   "outputs": [
    {
     "data": {
      "text/plain": [
       "Counterfeit_Sales    2290.205729\n",
       "dtype: float64"
      ]
     },
     "execution_count": 87,
     "metadata": {},
     "output_type": "execute_result"
    }
   ],
   "source": [
    "np.mean(submissions)"
   ]
  },
  {
   "cell_type": "code",
   "execution_count": 91,
   "metadata": {},
   "outputs": [],
   "source": [
    "submissions.to_csv('sample_submission_1.csv',index=False)"
   ]
  },
  {
   "cell_type": "code",
   "execution_count": null,
   "metadata": {},
   "outputs": [],
   "source": []
  }
 ],
 "metadata": {
  "kernelspec": {
   "display_name": "Python 3",
   "language": "python",
   "name": "python3"
  },
  "language_info": {
   "codemirror_mode": {
    "name": "ipython",
    "version": 3
   },
   "file_extension": ".py",
   "mimetype": "text/x-python",
   "name": "python",
   "nbconvert_exporter": "python",
   "pygments_lexer": "ipython3",
   "version": "3.7.4"
  }
 },
 "nbformat": 4,
 "nbformat_minor": 2
}
